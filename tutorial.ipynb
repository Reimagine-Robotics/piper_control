{
 "cells": [
  {
   "cell_type": "markdown",
   "metadata": {},
   "source": [
    "# Overview\n",
    "\n",
    "This notebook demostrates the usage of `piper_control`, our lightweight wrapper\n",
    "of `piper_sdk` for controlling AgileX Piper robots.\n",
    "\n",
    "The `piper_sdk` API is powerful and quickly maturing, but it's a bit complex and\n",
    "under-documented, and we found it helpful to define a simple abstraction for\n",
    "basic I/O.\n",
    "\n",
    "There are also several sharp bits in `piper_sdk` which can make the robots seem\n",
    "tempermental, e.g. becoming unresponsive despite repeated calls to\n",
    "`MotionCtrl_2`, `EnableArm`, `GripperCtrl`, etc. We've bundled our solutions\n",
    "into `PiperControl` so `reset` and the various move commands perform as one\n",
    "would expect."
   ]
  },
  {
   "cell_type": "code",
   "execution_count": null,
   "metadata": {},
   "outputs": [],
   "source": [
    "# Enable autoreload (optional, use if modifying piper_control.py)\n",
    "%load_ext autoreload\n",
    "%autoreload 2"
   ]
  },
  {
   "cell_type": "markdown",
   "metadata": {},
   "source": [
    "# CAN Connect\n",
    "This section demonstrates the use of `piper_connect` to establish the CAN\n",
    "connection to the robot(s).\n",
    "\n",
    "It is a python counterpart to AgileX's `can_activate.sh`."
   ]
  },
  {
   "cell_type": "markdown",
   "metadata": {},
   "source": [
    "## Sudo access\n",
    "\n",
    "This cell is only required for granting sudo to `piper_connect.activate`.\n",
    "\n",
    "`piper_connect` uses `ip` and `ethtool` commands to manage CAN interfaces, and\n",
    "those tools often require sudo permissions. For this notebook to get sudo\n",
    "access, you need to run this cell."
   ]
  },
  {
   "cell_type": "markdown",
   "metadata": {},
   "source": [
    "### (Optional) passwordless sudo"
   ]
  },
  {
   "cell_type": "markdown",
   "metadata": {},
   "source": [
    "For deployed robot machines where you don't want to constantly type in your sudo\n",
    "password, consider adding your user to sudoers file:\n",
    "\n",
    "```bash\n",
    "sudo visudo\n",
    "# Add this line at the end:\n",
    "<your username> ALL=(ALL) NOPASSWD:ALL\n",
    "```"
   ]
  },
  {
   "cell_type": "markdown",
   "metadata": {},
   "source": [
    "### Grant sudo to notebook"
   ]
  },
  {
   "cell_type": "code",
   "execution_count": null,
   "metadata": {},
   "outputs": [],
   "source": [
    "import subprocess\n",
    "import getpass\n",
    "\n",
    "def sudo_warmup():\n",
    "    try:\n",
    "        print(\"🔐 Sudo setup for Jupyter...\")\n",
    "        pw = getpass.getpass(\"Enter your password for sudo: \")\n",
    "        proc = subprocess.run(\n",
    "            [\"sudo\", \"-S\", \"echo\", \"sudo access granted\"],\n",
    "            input=pw + \"\\n\", text=True, check=True, capture_output=True\n",
    "        )\n",
    "        print(proc.stdout.strip())\n",
    "    except subprocess.CalledProcessError as e:\n",
    "        print(\"❌ Sudo failed:\", e.stderr.strip())\n",
    "\n",
    "sudo_warmup()\n"
   ]
  },
  {
   "cell_type": "markdown",
   "metadata": {},
   "source": [
    "## Poll and Connect"
   ]
  },
  {
   "cell_type": "code",
   "execution_count": null,
   "metadata": {},
   "outputs": [],
   "source": [
    "from piper_control import piper_connect"
   ]
  },
  {
   "cell_type": "code",
   "execution_count": null,
   "metadata": {},
   "outputs": [],
   "source": [
    "ports = piper_connect.find_ports()\n",
    "print(ports)"
   ]
  },
  {
   "cell_type": "code",
   "execution_count": null,
   "metadata": {},
   "outputs": [],
   "source": [
    "piper_connect.activate()\n",
    "print(piper_connect.active_ports())"
   ]
  },
  {
   "cell_type": "markdown",
   "metadata": {},
   "source": [
    "# Initialize and Query State"
   ]
  },
  {
   "cell_type": "code",
   "execution_count": null,
   "metadata": {},
   "outputs": [],
   "source": [
    "\n",
    "from piper_control import piper_control\n",
    "\n",
    "robot = piper_control.PiperControl(can_port=\"can0\")\n",
    "\n",
    "# Resets the robot and enables the motors and motion controller for the arm.\n",
    "# This call is necessary to be able to both query state and send commands to the\n",
    "# robot.\n",
    "robot.reset()\n",
    "\n",
    "print(robot.get_joint_positions())\n",
    "print(robot.get_joint_velocities())\n",
    "print(robot.get_joint_efforts())\n",
    "print(robot.get_gripper_state())"
   ]
  },
  {
   "cell_type": "code",
   "execution_count": null,
   "metadata": {},
   "outputs": [],
   "source": [
    "# Prints out a higher level status of the robot.\n",
    "print(robot.get_status())"
   ]
  },
  {
   "cell_type": "markdown",
   "metadata": {},
   "source": [
    "## Resetting and enabling the robot"
   ]
  },
  {
   "cell_type": "code",
   "execution_count": null,
   "metadata": {},
   "outputs": [],
   "source": [
    "# Sometimes, calling `reset()` doesn't work the first time and will throw an\n",
    "# error. In those instances, you can call reset() again and it should work.\n",
    "# If it still doesn't work, try turning the robot off and on again.\n",
    "# And if that _still_ doesn't work, take a look at the CAN connection.\n",
    "\n",
    "# The robot may physically drop when calling this, so move it to a safe position\n",
    "# or hold it when calling this.\n",
    "robot.reset()"
   ]
  },
  {
   "cell_type": "markdown",
   "metadata": {},
   "source": [
    "## Move a joint"
   ]
  },
  {
   "cell_type": "code",
   "execution_count": null,
   "metadata": {},
   "outputs": [],
   "source": [
    "joint_angles = robot.get_joint_positions()\n",
    "joint_angles[-2] -= 0.1\n",
    "print(f\"setting joint angles to {joint_angles}\")\n",
    "robot.set_joint_positions(joint_angles)"
   ]
  },
  {
   "cell_type": "markdown",
   "metadata": {},
   "source": [
    "# Send Gripper Commands"
   ]
  },
  {
   "cell_type": "code",
   "execution_count": null,
   "metadata": {},
   "outputs": [],
   "source": [
    "robot.set_gripper_ctrl(piper_control.GRIPPER_ANGLE_MAX * 0.9, piper_control.GRIPPER_EFFORT_MAX * 0.5)"
   ]
  },
  {
   "cell_type": "code",
   "execution_count": null,
   "metadata": {},
   "outputs": [],
   "source": [
    "robot.set_gripper_ctrl(piper_control.GRIPPER_ANGLE_MAX * 0.1, piper_control.GRIPPER_EFFORT_MAX * 0.5)"
   ]
  },
  {
   "cell_type": "markdown",
   "metadata": {},
   "source": [
    "## Move to special positions"
   ]
  },
  {
   "cell_type": "code",
   "execution_count": null,
   "metadata": {},
   "outputs": [],
   "source": [
    "# TODO(jscholz): Revisit the rest position.\n",
    "robot.set_joint_positions(piper_control.REST_POSITION)"
   ]
  },
  {
   "cell_type": "code",
   "execution_count": null,
   "metadata": {},
   "outputs": [],
   "source": [
    "robot.set_joint_positions(piper_control.DOWN_POSITION)"
   ]
  },
  {
   "cell_type": "markdown",
   "metadata": {},
   "source": [
    "## Cartesian Control"
   ]
  },
  {
   "cell_type": "code",
   "execution_count": null,
   "metadata": {},
   "outputs": [],
   "source": [
    "ee_pose = robot.get_end_effector_pose()\n",
    "ee_pose[0] += 0.02  # Move X by 5 cm\n",
    "print(f\"Sending updated pose: {ee_pose}\")\n",
    "robot.set_cartesian_position(ee_pose)"
   ]
  },
  {
   "cell_type": "markdown",
   "metadata": {},
   "source": [
    "## Puppeteering"
   ]
  },
  {
   "cell_type": "code",
   "execution_count": null,
   "metadata": {},
   "outputs": [],
   "source": [
    "robot0 = piper_control.PiperControl(can_port=\"can0\")\n",
    "robot1 = piper_control.PiperControl(can_port=\"can1\")"
   ]
  },
  {
   "cell_type": "code",
   "execution_count": null,
   "metadata": {},
   "outputs": [],
   "source": [
    "robot0.reset()\n",
    "robot1.reset()"
   ]
  },
  {
   "cell_type": "code",
   "execution_count": null,
   "metadata": {},
   "outputs": [],
   "source": [
    "robot0.set_joint_positions(piper_control.REST_POSITION)"
   ]
  },
  {
   "cell_type": "code",
   "execution_count": null,
   "metadata": {},
   "outputs": [],
   "source": [
    "robot0.set_joint_positions(piper_control.DOWN_POSITION)"
   ]
  },
  {
   "cell_type": "code",
   "execution_count": null,
   "metadata": {},
   "outputs": [],
   "source": [
    "robot1.set_joint_positions(piper_control.REST_POSITION)"
   ]
  },
  {
   "cell_type": "code",
   "execution_count": null,
   "metadata": {},
   "outputs": [],
   "source": [
    "robot1.set_joint_positions(piper_control.DOWN_POSITION)"
   ]
  },
  {
   "cell_type": "code",
   "execution_count": null,
   "metadata": {},
   "outputs": [],
   "source": [
    "import time\n",
    "while True:\n",
    "  joint_angles = robot1.get_joint_positions()\n",
    "  print(f\"{joint_angles=}\")\n",
    "  time.sleep(0.01)\n",
    "  robot0.set_joint_positions(joint_angles)"
   ]
  }
 ],
 "metadata": {
  "kernelspec": {
   "display_name": "piper_control_env",
   "language": "python",
   "name": "python3"
  },
  "language_info": {
   "codemirror_mode": {
    "name": "ipython",
    "version": 3
   },
   "file_extension": ".py",
   "mimetype": "text/x-python",
   "name": "python",
   "nbconvert_exporter": "python",
   "pygments_lexer": "ipython3",
   "version": "3.10.16"
  }
 },
 "nbformat": 4,
 "nbformat_minor": 2
}
